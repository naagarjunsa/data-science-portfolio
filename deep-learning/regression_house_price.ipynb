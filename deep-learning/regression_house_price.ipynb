{
  "nbformat": 4,
  "nbformat_minor": 0,
  "metadata": {
    "colab": {
      "name": "regression-house-price.ipynb",
      "provenance": [],
      "authorship_tag": "ABX9TyPsDV/2/Awv5DsTVR7A52to",
      "include_colab_link": true
    },
    "kernelspec": {
      "name": "python3",
      "display_name": "Python 3"
    }
  },
  "cells": [
    {
      "cell_type": "markdown",
      "metadata": {
        "id": "view-in-github",
        "colab_type": "text"
      },
      "source": [
        "<a href=\"https://colab.research.google.com/github/naagarjunsa/data-science-portfolio/blob/main/deep-learning/regression_house_price.ipynb\" target=\"_parent\"><img src=\"https://colab.research.google.com/assets/colab-badge.svg\" alt=\"Open In Colab\"/></a>"
      ]
    },
    {
      "cell_type": "code",
      "metadata": {
        "id": "J4-wklnbcd-1"
      },
      "source": [
        "from keras.datasets import boston_housing\r\n",
        "(train_data, train_targets), (test_data, test_targets) = boston_housing.load_data()"
      ],
      "execution_count": 3,
      "outputs": []
    },
    {
      "cell_type": "code",
      "metadata": {
        "colab": {
          "base_uri": "https://localhost:8080/"
        },
        "id": "fqx5CYaxcw5C",
        "outputId": "8062299a-1506-46d6-e249-9b94b6225d29"
      },
      "source": [
        "train_data.shape"
      ],
      "execution_count": 4,
      "outputs": [
        {
          "output_type": "execute_result",
          "data": {
            "text/plain": [
              "(404, 13)"
            ]
          },
          "metadata": {
            "tags": []
          },
          "execution_count": 4
        }
      ]
    },
    {
      "cell_type": "code",
      "metadata": {
        "colab": {
          "base_uri": "https://localhost:8080/"
        },
        "id": "Svgm4OA6c2JG",
        "outputId": "24ea4e0f-0352-4715-fe16-2d2228a6df92"
      },
      "source": [
        "train_targets"
      ],
      "execution_count": 5,
      "outputs": [
        {
          "output_type": "execute_result",
          "data": {
            "text/plain": [
              "array([15.2, 42.3, 50. , 21.1, 17.7, 18.5, 11.3, 15.6, 15.6, 14.4, 12.1,\n",
              "       17.9, 23.1, 19.9, 15.7,  8.8, 50. , 22.5, 24.1, 27.5, 10.9, 30.8,\n",
              "       32.9, 24. , 18.5, 13.3, 22.9, 34.7, 16.6, 17.5, 22.3, 16.1, 14.9,\n",
              "       23.1, 34.9, 25. , 13.9, 13.1, 20.4, 20. , 15.2, 24.7, 22.2, 16.7,\n",
              "       12.7, 15.6, 18.4, 21. , 30.1, 15.1, 18.7,  9.6, 31.5, 24.8, 19.1,\n",
              "       22. , 14.5, 11. , 32. , 29.4, 20.3, 24.4, 14.6, 19.5, 14.1, 14.3,\n",
              "       15.6, 10.5,  6.3, 19.3, 19.3, 13.4, 36.4, 17.8, 13.5, 16.5,  8.3,\n",
              "       14.3, 16. , 13.4, 28.6, 43.5, 20.2, 22. , 23. , 20.7, 12.5, 48.5,\n",
              "       14.6, 13.4, 23.7, 50. , 21.7, 39.8, 38.7, 22.2, 34.9, 22.5, 31.1,\n",
              "       28.7, 46. , 41.7, 21. , 26.6, 15. , 24.4, 13.3, 21.2, 11.7, 21.7,\n",
              "       19.4, 50. , 22.8, 19.7, 24.7, 36.2, 14.2, 18.9, 18.3, 20.6, 24.6,\n",
              "       18.2,  8.7, 44. , 10.4, 13.2, 21.2, 37. , 30.7, 22.9, 20. , 19.3,\n",
              "       31.7, 32. , 23.1, 18.8, 10.9, 50. , 19.6,  5. , 14.4, 19.8, 13.8,\n",
              "       19.6, 23.9, 24.5, 25. , 19.9, 17.2, 24.6, 13.5, 26.6, 21.4, 11.9,\n",
              "       22.6, 19.6,  8.5, 23.7, 23.1, 22.4, 20.5, 23.6, 18.4, 35.2, 23.1,\n",
              "       27.9, 20.6, 23.7, 28. , 13.6, 27.1, 23.6, 20.6, 18.2, 21.7, 17.1,\n",
              "        8.4, 25.3, 13.8, 22.2, 18.4, 20.7, 31.6, 30.5, 20.3,  8.8, 19.2,\n",
              "       19.4, 23.1, 23. , 14.8, 48.8, 22.6, 33.4, 21.1, 13.6, 32.2, 13.1,\n",
              "       23.4, 18.9, 23.9, 11.8, 23.3, 22.8, 19.6, 16.7, 13.4, 22.2, 20.4,\n",
              "       21.8, 26.4, 14.9, 24.1, 23.8, 12.3, 29.1, 21. , 19.5, 23.3, 23.8,\n",
              "       17.8, 11.5, 21.7, 19.9, 25. , 33.4, 28.5, 21.4, 24.3, 27.5, 33.1,\n",
              "       16.2, 23.3, 48.3, 22.9, 22.8, 13.1, 12.7, 22.6, 15. , 15.3, 10.5,\n",
              "       24. , 18.5, 21.7, 19.5, 33.2, 23.2,  5. , 19.1, 12.7, 22.3, 10.2,\n",
              "       13.9, 16.3, 17. , 20.1, 29.9, 17.2, 37.3, 45.4, 17.8, 23.2, 29. ,\n",
              "       22. , 18. , 17.4, 34.6, 20.1, 25. , 15.6, 24.8, 28.2, 21.2, 21.4,\n",
              "       23.8, 31. , 26.2, 17.4, 37.9, 17.5, 20. ,  8.3, 23.9,  8.4, 13.8,\n",
              "        7.2, 11.7, 17.1, 21.6, 50. , 16.1, 20.4, 20.6, 21.4, 20.6, 36.5,\n",
              "        8.5, 24.8, 10.8, 21.9, 17.3, 18.9, 36.2, 14.9, 18.2, 33.3, 21.8,\n",
              "       19.7, 31.6, 24.8, 19.4, 22.8,  7.5, 44.8, 16.8, 18.7, 50. , 50. ,\n",
              "       19.5, 20.1, 50. , 17.2, 20.8, 19.3, 41.3, 20.4, 20.5, 13.8, 16.5,\n",
              "       23.9, 20.6, 31.5, 23.3, 16.8, 14. , 33.8, 36.1, 12.8, 18.3, 18.7,\n",
              "       19.1, 29. , 30.1, 50. , 50. , 22. , 11.9, 37.6, 50. , 22.7, 20.8,\n",
              "       23.5, 27.9, 50. , 19.3, 23.9, 22.6, 15.2, 21.7, 19.2, 43.8, 20.3,\n",
              "       33.2, 19.9, 22.5, 32.7, 22. , 17.1, 19. , 15. , 16.1, 25.1, 23.7,\n",
              "       28.7, 37.2, 22.6, 16.4, 25. , 29.8, 22.1, 17.4, 18.1, 30.3, 17.5,\n",
              "       24.7, 12.6, 26.5, 28.7, 13.3, 10.4, 24.4, 23. , 20. , 17.8,  7. ,\n",
              "       11.8, 24.4, 13.8, 19.4, 25.2, 19.4, 19.4, 29.1])"
            ]
          },
          "metadata": {
            "tags": []
          },
          "execution_count": 5
        }
      ]
    },
    {
      "cell_type": "code",
      "metadata": {
        "id": "w3o6ZzHdc40l"
      },
      "source": [
        "mean = train_data.mean(axis=0)\r\n",
        "train_data -= mean\r\n",
        "std = train_data.std(axis=0)\r\n",
        "train_data /= std\r\n",
        "test_data -= mean\r\n",
        "test_data /= std"
      ],
      "execution_count": 6,
      "outputs": []
    },
    {
      "cell_type": "code",
      "metadata": {
        "id": "3upbmHDwdAZW"
      },
      "source": [
        "from keras import models\r\n",
        "from keras import layers\r\n",
        "def build_model():\r\n",
        "  model = models.Sequential()\r\n",
        "  model.add(layers.Dense(64, activation='relu',\r\n",
        "  input_shape=(train_data.shape[1],)))\r\n",
        "  model.add(layers.Dense(64, activation='relu'))\r\n",
        "  model.add(layers.Dense(1))\r\n",
        "  model.compile(optimizer='rmsprop', loss='mse', metrics=['mae'])\r\n",
        "  return model"
      ],
      "execution_count": 7,
      "outputs": []
    },
    {
      "cell_type": "code",
      "metadata": {
        "colab": {
          "base_uri": "https://localhost:8080/"
        },
        "id": "Nmbc4436ha3Q",
        "outputId": "58dce028-402e-4f02-df1a-a24ca4dd3140"
      },
      "source": [
        "model = build_model()\r\n",
        "model.fit(train_data, train_targets, epochs=30, batch_size=16)"
      ],
      "execution_count": 13,
      "outputs": [
        {
          "output_type": "stream",
          "text": [
            "Epoch 1/30\n",
            "26/26 [==============================] - 0s 1ms/step - loss: 546.3882 - mae: 21.6091\n",
            "Epoch 2/30\n",
            "26/26 [==============================] - 0s 1ms/step - loss: 379.2388 - mae: 17.3585\n",
            "Epoch 3/30\n",
            "26/26 [==============================] - 0s 1ms/step - loss: 196.7876 - mae: 11.7792\n",
            "Epoch 4/30\n",
            "26/26 [==============================] - 0s 1ms/step - loss: 88.6038 - mae: 7.0842\n",
            "Epoch 5/30\n",
            "26/26 [==============================] - 0s 1ms/step - loss: 50.4247 - mae: 5.2413\n",
            "Epoch 6/30\n",
            "26/26 [==============================] - 0s 1ms/step - loss: 30.0775 - mae: 3.8785\n",
            "Epoch 7/30\n",
            "26/26 [==============================] - 0s 1ms/step - loss: 27.2567 - mae: 3.7028\n",
            "Epoch 8/30\n",
            "26/26 [==============================] - 0s 1ms/step - loss: 20.8546 - mae: 3.3001\n",
            "Epoch 9/30\n",
            "26/26 [==============================] - 0s 1ms/step - loss: 20.7216 - mae: 3.1475\n",
            "Epoch 10/30\n",
            "26/26 [==============================] - 0s 1ms/step - loss: 15.5672 - mae: 2.8576\n",
            "Epoch 11/30\n",
            "26/26 [==============================] - 0s 1ms/step - loss: 15.6766 - mae: 2.9056\n",
            "Epoch 12/30\n",
            "26/26 [==============================] - 0s 1ms/step - loss: 15.8181 - mae: 2.7369\n",
            "Epoch 13/30\n",
            "26/26 [==============================] - 0s 1ms/step - loss: 13.0930 - mae: 2.5591\n",
            "Epoch 14/30\n",
            "26/26 [==============================] - 0s 1ms/step - loss: 13.3489 - mae: 2.4769\n",
            "Epoch 15/30\n",
            "26/26 [==============================] - 0s 1ms/step - loss: 11.9106 - mae: 2.5191\n",
            "Epoch 16/30\n",
            "26/26 [==============================] - 0s 1ms/step - loss: 13.0115 - mae: 2.4554\n",
            "Epoch 17/30\n",
            "26/26 [==============================] - 0s 1ms/step - loss: 10.6290 - mae: 2.3617\n",
            "Epoch 18/30\n",
            "26/26 [==============================] - 0s 1ms/step - loss: 10.5814 - mae: 2.3888\n",
            "Epoch 19/30\n",
            "26/26 [==============================] - 0s 1ms/step - loss: 10.9820 - mae: 2.3978\n",
            "Epoch 20/30\n",
            "26/26 [==============================] - 0s 1ms/step - loss: 12.6495 - mae: 2.3081\n",
            "Epoch 21/30\n",
            "26/26 [==============================] - 0s 1ms/step - loss: 10.7064 - mae: 2.3016\n",
            "Epoch 22/30\n",
            "26/26 [==============================] - 0s 1ms/step - loss: 10.4983 - mae: 2.1998\n",
            "Epoch 23/30\n",
            "26/26 [==============================] - 0s 1ms/step - loss: 10.1004 - mae: 2.2229\n",
            "Epoch 24/30\n",
            "26/26 [==============================] - 0s 1ms/step - loss: 9.4900 - mae: 2.2283\n",
            "Epoch 25/30\n",
            "26/26 [==============================] - 0s 1ms/step - loss: 11.8045 - mae: 2.3256\n",
            "Epoch 26/30\n",
            "26/26 [==============================] - 0s 1ms/step - loss: 10.4600 - mae: 2.3332\n",
            "Epoch 27/30\n",
            "26/26 [==============================] - 0s 1ms/step - loss: 8.9135 - mae: 2.1795\n",
            "Epoch 28/30\n",
            "26/26 [==============================] - 0s 1ms/step - loss: 6.5159 - mae: 1.9188\n",
            "Epoch 29/30\n",
            "26/26 [==============================] - 0s 1ms/step - loss: 7.2813 - mae: 1.9778\n",
            "Epoch 30/30\n",
            "26/26 [==============================] - 0s 1ms/step - loss: 7.2862 - mae: 1.9267\n"
          ],
          "name": "stdout"
        },
        {
          "output_type": "execute_result",
          "data": {
            "text/plain": [
              "<tensorflow.python.keras.callbacks.History at 0x7f7092230dd0>"
            ]
          },
          "metadata": {
            "tags": []
          },
          "execution_count": 13
        }
      ]
    },
    {
      "cell_type": "code",
      "metadata": {
        "colab": {
          "base_uri": "https://localhost:8080/"
        },
        "id": "GogrAib8iHAG",
        "outputId": "9761ec37-f666-4b17-90e0-231454abbce1"
      },
      "source": [
        "test_loss, test_mae = model.evaluate(test_data, test_targets)"
      ],
      "execution_count": 14,
      "outputs": [
        {
          "output_type": "stream",
          "text": [
            "4/4 [==============================] - 0s 3ms/step - loss: 21.4501 - mae: 3.0219\n"
          ],
          "name": "stdout"
        }
      ]
    },
    {
      "cell_type": "code",
      "metadata": {
        "colab": {
          "base_uri": "https://localhost:8080/"
        },
        "id": "-q_q-V8nix8u",
        "outputId": "39d3403a-7275-42ec-81e3-27e0c67eea9c"
      },
      "source": [
        "test_mae"
      ],
      "execution_count": 15,
      "outputs": [
        {
          "output_type": "execute_result",
          "data": {
            "text/plain": [
              "3.021925926208496"
            ]
          },
          "metadata": {
            "tags": []
          },
          "execution_count": 15
        }
      ]
    },
    {
      "cell_type": "code",
      "metadata": {
        "id": "gdU5vXQSi2su"
      },
      "source": [
        ""
      ],
      "execution_count": null,
      "outputs": []
    }
  ]
}