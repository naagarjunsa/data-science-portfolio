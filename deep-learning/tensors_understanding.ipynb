{
  "nbformat": 4,
  "nbformat_minor": 0,
  "metadata": {
    "colab": {
      "name": "tensors-understanding.ipynb",
      "provenance": [],
      "collapsed_sections": [],
      "authorship_tag": "ABX9TyN/L8deUUEcNwu7dYifGlwL",
      "include_colab_link": true
    },
    "kernelspec": {
      "name": "python3",
      "display_name": "Python 3"
    }
  },
  "cells": [
    {
      "cell_type": "markdown",
      "metadata": {
        "id": "view-in-github",
        "colab_type": "text"
      },
      "source": [
        "<a href=\"https://colab.research.google.com/github/naagarjunsa/data-science-portfolio/blob/main/deep-learning/tensors_understanding.ipynb\" target=\"_parent\"><img src=\"https://colab.research.google.com/assets/colab-badge.svg\" alt=\"Open In Colab\"/></a>"
      ]
    },
    {
      "cell_type": "markdown",
      "metadata": {
        "id": "QQdBm22ZAzFT"
      },
      "source": [
        "# Data Representation for Neural Networks\r\n",
        "\r\n",
        "Tensor is a container for data - usually numbers, in the context of the tensor, the dimension is called an axis.\r\n",
        " \r\n",
        " Types of tensors\r\n",
        "\r\n",
        "*   Scalars - 0 Dimension Tensors\r\n",
        "      - contains only a single number\r\n",
        "      - can check # of axes by .ndim\r\n",
        "*   Vectors - 1 Dimensional Tensors\r\n",
        "      - contains only one axis. \r\n",
        "      - axis is better known by rank\r\n",
        "      - dimension can be also be entries in an axis\r\n",
        "*   Matrices - 2 Dimensional Tensors\r\n",
        "      - has two axes, rows and columns\r\n",
        "      \r\n",
        "\r\n",
        "\r\n"
      ]
    },
    {
      "cell_type": "markdown",
      "metadata": {
        "id": "qnZTjXLIDBSx"
      },
      "source": [
        "# Attributes of Tensor\r\n",
        "\r\n",
        "* Number of axes - rank - ndim\r\n",
        "\r\n",
        "* Shape - tuple of integers to represent dimension across each axis.\r\n",
        "\r\n",
        "* Data Type - dtype - the data type contained in the tensor"
      ]
    },
    {
      "cell_type": "code",
      "metadata": {
        "colab": {
          "base_uri": "https://localhost:8080/"
        },
        "id": "C3Jk9GfwexZP",
        "outputId": "129ead57-8890-4233-cb48-81bdf0c634a9"
      },
      "source": [
        "#Scalar 0D Tensors\r\n",
        "import numpy as np\r\n",
        "\r\n",
        "scalar = np.array(10)\r\n",
        "print(\"Tensor : \", scalar, \"\\n Axes : \", scalar.ndim)\r\n",
        "print(\"Shape : \", scalar.shape)\r\n",
        "print(\"Data Type : \", scalar.dtype)\r\n"
      ],
      "execution_count": 1,
      "outputs": [
        {
          "output_type": "stream",
          "text": [
            "Tensor :  10 \n",
            " Axes :  0\n",
            "Shape :  ()\n",
            "Data Type :  int64\n"
          ],
          "name": "stdout"
        }
      ]
    },
    {
      "cell_type": "code",
      "metadata": {
        "colab": {
          "base_uri": "https://localhost:8080/"
        },
        "id": "FU0sT6HeB09r",
        "outputId": "2394db0f-6375-4ab6-81de-44d54e22c113"
      },
      "source": [
        "vector = np.array([1,2,3])\r\n",
        "\r\n",
        "print(\"Tensor : \", vector, \"\\n Axes : \", vector.ndim)\r\n",
        "print(\"Shape : \", vector.shape)\r\n",
        "print(\"Data Type : \", vector.dtype)"
      ],
      "execution_count": 2,
      "outputs": [
        {
          "output_type": "stream",
          "text": [
            "Tensor :  [1 2 3] \n",
            " Axes :  1\n",
            "Shape :  (3,)\n",
            "Data Type :  int64\n"
          ],
          "name": "stdout"
        }
      ]
    },
    {
      "cell_type": "code",
      "metadata": {
        "colab": {
          "base_uri": "https://localhost:8080/"
        },
        "id": "sXKvsgQuCKXc",
        "outputId": "5e2b72dd-92e4-4007-c438-de60d40e7cd8"
      },
      "source": [
        "mat = np.array([[1,2,3],\r\n",
        "                [4,5,6],\r\n",
        "                [6,7,8]])\r\n",
        "print(\"Tensor : \", mat, \"\\n Axes : \", mat.ndim)\r\n",
        "print(\"Shape : \", mat.shape)\r\n",
        "print(\"Data Type : \", mat.dtype)"
      ],
      "execution_count": 3,
      "outputs": [
        {
          "output_type": "stream",
          "text": [
            "Tensor :  [[1 2 3]\n",
            " [4 5 6]\n",
            " [6 7 8]] \n",
            " Axes :  2\n",
            "Shape :  (3, 3)\n",
            "Data Type :  int64\n"
          ],
          "name": "stdout"
        }
      ]
    },
    {
      "cell_type": "markdown",
      "metadata": {
        "id": "BB8AD1lnErmC"
      },
      "source": [
        "## Manipulating tensors in Numpy\r\n",
        "\r\n",
        "* Tensor Slicing - you may select between any two indices along each tensor axis\r\n",
        "* Sample Axes - axis 0 usually represents the number of samples - the rest of the axes represent that particular object\r\n",
        "* Whenever we try to batch the training_data we do it with the axis 0."
      ]
    },
    {
      "cell_type": "code",
      "metadata": {
        "colab": {
          "base_uri": "https://localhost:8080/"
        },
        "id": "_cWnYxetCvoo",
        "outputId": "bee86d1e-57b6-47ae-edd5-031355f55084"
      },
      "source": [
        "from keras.datasets import mnist\r\n",
        "\r\n",
        "(train_images, train_labels), (test_images, test_labels) = mnist.load_data()"
      ],
      "execution_count": 4,
      "outputs": [
        {
          "output_type": "stream",
          "text": [
            "Downloading data from https://storage.googleapis.com/tensorflow/tf-keras-datasets/mnist.npz\n",
            "11493376/11490434 [==============================] - 0s 0us/step\n"
          ],
          "name": "stdout"
        }
      ]
    },
    {
      "cell_type": "code",
      "metadata": {
        "colab": {
          "base_uri": "https://localhost:8080/"
        },
        "id": "m_ltee4HFkUP",
        "outputId": "61d0a8f7-6783-4e59-f274-ba60b627deaa"
      },
      "source": [
        "train_images.shape"
      ],
      "execution_count": 5,
      "outputs": [
        {
          "output_type": "execute_result",
          "data": {
            "text/plain": [
              "(60000, 28, 28)"
            ]
          },
          "metadata": {
            "tags": []
          },
          "execution_count": 5
        }
      ]
    },
    {
      "cell_type": "code",
      "metadata": {
        "colab": {
          "base_uri": "https://localhost:8080/"
        },
        "id": "Qd3rkrX3Fo50",
        "outputId": "ae003ef8-e0e8-4f4a-b357-9ac6f6e25ef1"
      },
      "source": [
        "train_images[:,:,:].shape"
      ],
      "execution_count": 6,
      "outputs": [
        {
          "output_type": "execute_result",
          "data": {
            "text/plain": [
              "(60000, 28, 28)"
            ]
          },
          "metadata": {
            "tags": []
          },
          "execution_count": 6
        }
      ]
    },
    {
      "cell_type": "code",
      "metadata": {
        "colab": {
          "base_uri": "https://localhost:8080/"
        },
        "id": "6PU9JCM7Fros",
        "outputId": "8beedff7-9d38-4df8-bd54-78a2ac8dc40b"
      },
      "source": [
        "train_images[:256,:,:].shape"
      ],
      "execution_count": 7,
      "outputs": [
        {
          "output_type": "execute_result",
          "data": {
            "text/plain": [
              "(256, 28, 28)"
            ]
          },
          "metadata": {
            "tags": []
          },
          "execution_count": 7
        }
      ]
    },
    {
      "cell_type": "markdown",
      "metadata": {
        "id": "dvgY19DRGBWZ"
      },
      "source": [
        "# Types of Tensor Data : \r\n",
        "\r\n",
        "- Vector data — 2D tensors of shape (samples, features)\r\n",
        "each single data point can be encoded\r\n",
        "as a vector\r\n",
        "-  Timeseries data or sequence data — 3D tensors of shape (samples, timesteps,\r\n",
        "features) \r\n",
        "each sample is a journey of one data point features across many timesteps.\r\n",
        "each single data point can be encoded as a matrix.\r\n",
        "- Images — 4D tensors of shape (samples,\r\n",
        " height, width, channels)\r\n",
        "each single data point can be encoded as a 3d tensor.\r\n",
        "- Video — 5D tensors of shape\r\n",
        "(samples, frames, height, width, channels)"
      ]
    },
    {
      "cell_type": "code",
      "metadata": {
        "colab": {
          "base_uri": "https://localhost:8080/"
        },
        "id": "MIcXfu-xI2ZK",
        "outputId": "4f412d4e-4d5b-419e-864f-523dabc7c3ff"
      },
      "source": [
        "#element wise parallel operations make numpy fast\r\n",
        "x = np.array([1,2,3])\r\n",
        "y = np.array([3,4,5])\r\n",
        "\r\n",
        "z = x + y\r\n",
        "z"
      ],
      "execution_count": 9,
      "outputs": [
        {
          "output_type": "execute_result",
          "data": {
            "text/plain": [
              "array([4, 6, 8])"
            ]
          },
          "metadata": {
            "tags": []
          },
          "execution_count": 9
        }
      ]
    },
    {
      "cell_type": "code",
      "metadata": {
        "colab": {
          "base_uri": "https://localhost:8080/"
        },
        "id": "ZPAnOm_fri6v",
        "outputId": "0666c550-482a-4416-fd47-f4226369ba19"
      },
      "source": [
        "np.maximum(z, 0)"
      ],
      "execution_count": 10,
      "outputs": [
        {
          "output_type": "execute_result",
          "data": {
            "text/plain": [
              "array([4, 6, 8])"
            ]
          },
          "metadata": {
            "tags": []
          },
          "execution_count": 10
        }
      ]
    },
    {
      "cell_type": "code",
      "metadata": {
        "colab": {
          "base_uri": "https://localhost:8080/"
        },
        "id": "JM6cPEWernev",
        "outputId": "938d291e-985b-4da3-cd6d-e0e9d25382ae"
      },
      "source": [
        "#broadcasting is increasing the axis and replicating the existing data in other\r\n",
        "#axis to match the bigger operand \r\n",
        "\r\n",
        "x = np.random.random((3,3,3))\r\n",
        "y = np.random.random((3,3))\r\n",
        "\r\n",
        "print(x, \"\\n\\n\", y)"
      ],
      "execution_count": 13,
      "outputs": [
        {
          "output_type": "stream",
          "text": [
            "[[[0.49168733 0.53155657 0.11228104]\n",
            "  [0.26030245 0.0723359  0.64364427]\n",
            "  [0.96973348 0.16385194 0.9976055 ]]\n",
            "\n",
            " [[0.53339357 0.24990948 0.16998596]\n",
            "  [0.8718506  0.2837201  0.31292204]\n",
            "  [0.72612729 0.67640523 0.51877987]]\n",
            "\n",
            " [[0.90737556 0.87130895 0.0829014 ]\n",
            "  [0.96451091 0.79508907 0.26653846]\n",
            "  [0.6450805  0.32243447 0.67352638]]] \n",
            "\n",
            " [[0.46095753 0.16859737 0.62930225]\n",
            " [0.77753709 0.51950907 0.84503217]\n",
            " [0.80048838 0.45346599 0.53850086]]\n"
          ],
          "name": "stdout"
        }
      ]
    },
    {
      "cell_type": "code",
      "metadata": {
        "colab": {
          "base_uri": "https://localhost:8080/"
        },
        "id": "GCCYtPc-tLt_",
        "outputId": "5b4e600a-7d06-4d52-f609-be2630289e08"
      },
      "source": [
        "z = x + y\r\n",
        "z"
      ],
      "execution_count": 14,
      "outputs": [
        {
          "output_type": "execute_result",
          "data": {
            "text/plain": [
              "array([[[0.95264486, 0.70015394, 0.74158329],\n",
              "        [1.03783955, 0.59184497, 1.48867645],\n",
              "        [1.77022186, 0.61731794, 1.53610636]],\n",
              "\n",
              "       [[0.99435109, 0.41850685, 0.79928821],\n",
              "        [1.64938769, 0.80322917, 1.15795421],\n",
              "        [1.52661567, 1.12987122, 1.05728073]],\n",
              "\n",
              "       [[1.36833308, 1.03990632, 0.71220364],\n",
              "        [1.742048  , 1.31459813, 1.11157063],\n",
              "        [1.44556888, 0.77590046, 1.21202724]]])"
            ]
          },
          "metadata": {
            "tags": []
          },
          "execution_count": 14
        }
      ]
    },
    {
      "cell_type": "code",
      "metadata": {
        "colab": {
          "base_uri": "https://localhost:8080/"
        },
        "id": "gLl-rdPstSKn",
        "outputId": "281dd3c4-c0ba-4f03-e561-7b4f99e76698"
      },
      "source": [
        "print(x.shape, y.shape, z.shape)"
      ],
      "execution_count": 15,
      "outputs": [
        {
          "output_type": "stream",
          "text": [
            "(3, 3, 3) (3, 3) (3, 3, 3)\n"
          ],
          "name": "stdout"
        }
      ]
    },
    {
      "cell_type": "code",
      "metadata": {
        "colab": {
          "base_uri": "https://localhost:8080/"
        },
        "id": "Zvrpnth9tY2d",
        "outputId": "0dfee535-418e-4cde-db78-2edc852fcbee"
      },
      "source": [
        "#dot product is used a lot in calculating the sum of the node before activation\r\n",
        "x = np.random.random((1,2))\r\n",
        "y = np.random.random((2,3))\r\n",
        "z = np.dot(x, y)\r\n",
        "\r\n",
        "# the above thing works cause the last dim of shape of x and first dim of shape of y are same.\r\n",
        " \r\n",
        "print(x.shape, y.shape, z.shape)"
      ],
      "execution_count": 22,
      "outputs": [
        {
          "output_type": "stream",
          "text": [
            "(1, 2) (2, 3) (1, 3)\n"
          ],
          "name": "stdout"
        }
      ]
    },
    {
      "cell_type": "markdown",
      "metadata": {
        "id": "bbChFw-_ulR4"
      },
      "source": [
        "Reshaping a tensor means rearranging its rows and columns to match a target shape.\r\n",
        "Naturally, the reshaped tensor has the same total number of coefficients as the initial\r\n",
        "tensor"
      ]
    },
    {
      "cell_type": "code",
      "metadata": {
        "colab": {
          "base_uri": "https://localhost:8080/"
        },
        "id": "9X2qB9ndtoNv",
        "outputId": "2b07b83e-5800-4b76-91d5-050b680becaf"
      },
      "source": [
        "#reshaping tensor is also used a lot to restructure the ip data to network\r\n",
        "\r\n",
        "x = np.random.random((3,2))\r\n",
        "x.shape"
      ],
      "execution_count": 24,
      "outputs": [
        {
          "output_type": "execute_result",
          "data": {
            "text/plain": [
              "(3, 2)"
            ]
          },
          "metadata": {
            "tags": []
          },
          "execution_count": 24
        }
      ]
    },
    {
      "cell_type": "code",
      "metadata": {
        "colab": {
          "base_uri": "https://localhost:8080/"
        },
        "id": "nDVnO5ihuajW",
        "outputId": "7471f5c1-ef40-492f-8544-6a6ba3a3a195"
      },
      "source": [
        "x.reshape((6,1))"
      ],
      "execution_count": 25,
      "outputs": [
        {
          "output_type": "execute_result",
          "data": {
            "text/plain": [
              "array([[0.39239632],\n",
              "       [0.31907384],\n",
              "       [0.3629386 ],\n",
              "       [0.13648932],\n",
              "       [0.09392549],\n",
              "       [0.98249448]])"
            ]
          },
          "metadata": {
            "tags": []
          },
          "execution_count": 25
        }
      ]
    },
    {
      "cell_type": "code",
      "metadata": {
        "id": "Gw7eWklEugSe"
      },
      "source": [
        ""
      ],
      "execution_count": null,
      "outputs": []
    }
  ]
}