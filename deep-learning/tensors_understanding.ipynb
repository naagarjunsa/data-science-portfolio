{
  "nbformat": 4,
  "nbformat_minor": 0,
  "metadata": {
    "colab": {
      "name": "tensors-understanding.ipynb",
      "provenance": [],
      "collapsed_sections": [],
      "authorship_tag": "ABX9TyNQuejAO6NoolU0YWCPNK9U",
      "include_colab_link": true
    },
    "kernelspec": {
      "name": "python3",
      "display_name": "Python 3"
    }
  },
  "cells": [
    {
      "cell_type": "markdown",
      "metadata": {
        "id": "view-in-github",
        "colab_type": "text"
      },
      "source": [
        "<a href=\"https://colab.research.google.com/github/naagarjunsa/data-science-portfolio/blob/main/deep-learning/tensors_understanding.ipynb\" target=\"_parent\"><img src=\"https://colab.research.google.com/assets/colab-badge.svg\" alt=\"Open In Colab\"/></a>"
      ]
    },
    {
      "cell_type": "markdown",
      "metadata": {
        "id": "QQdBm22ZAzFT"
      },
      "source": [
        "# Data Representation for Neural Networks\r\n",
        "\r\n",
        "Tensor is a container for data - usually numbers, in the context of the tensor, the dimension is called an axis.\r\n",
        " \r\n",
        " Types of tensors\r\n",
        "\r\n",
        "*   Scalars - 0 Dimension Tensors\r\n",
        "      - contains only a single number\r\n",
        "      - can check # of axes by .ndim\r\n",
        "*   Vectors - 1 Dimensional Tensors\r\n",
        "      - contains only one axis. \r\n",
        "      - axis is better known by rank\r\n",
        "      - dimension can be also be entries in an axis\r\n",
        "*   Matrices - 2 Dimensional Tensors\r\n",
        "      - has two axes, rows and columns\r\n",
        "      \r\n",
        "\r\n",
        "\r\n"
      ]
    },
    {
      "cell_type": "markdown",
      "metadata": {
        "id": "qnZTjXLIDBSx"
      },
      "source": [
        "# Attributes of Tensor\r\n",
        "\r\n",
        "* Number of axes - rank - ndim\r\n",
        "\r\n",
        "* Shape - tuple of integers to represent dimension across each axis.\r\n",
        "\r\n",
        "* Data Type - dtype - the data type contained in the tensor"
      ]
    },
    {
      "cell_type": "code",
      "metadata": {
        "colab": {
          "base_uri": "https://localhost:8080/"
        },
        "id": "C3Jk9GfwexZP",
        "outputId": "eda9782e-e853-4d06-93e9-d1bd1a177411"
      },
      "source": [
        "#Scalar 0D Tensors\r\n",
        "import numpy as np\r\n",
        "\r\n",
        "scalar = np.array(10)\r\n",
        "print(\"Tensor : \", scalar, \"\\n Axes : \", scalar.ndim)\r\n",
        "print(\"Shape : \", scalar.shape)\r\n",
        "print(\"Data Type : \", scalar.dtype)\r\n"
      ],
      "execution_count": 1,
      "outputs": [
        {
          "output_type": "stream",
          "text": [
            "Tensor :  10 \n",
            " Axes :  0\n",
            "Shape :  ()\n",
            "Data Type :  int64\n"
          ],
          "name": "stdout"
        }
      ]
    },
    {
      "cell_type": "code",
      "metadata": {
        "colab": {
          "base_uri": "https://localhost:8080/"
        },
        "id": "FU0sT6HeB09r",
        "outputId": "ba829a1a-a8c1-4305-8748-921eff08df95"
      },
      "source": [
        "vector = np.array([1,2,3])\r\n",
        "\r\n",
        "print(\"Tensor : \", vector, \"\\n Axes : \", vector.ndim)\r\n",
        "print(\"Shape : \", vector.shape)\r\n",
        "print(\"Data Type : \", vector.dtype)"
      ],
      "execution_count": 2,
      "outputs": [
        {
          "output_type": "stream",
          "text": [
            "Tensor :  [1 2 3] \n",
            " Axes :  1\n",
            "Shape :  (3,)\n",
            "Data Type :  int64\n"
          ],
          "name": "stdout"
        }
      ]
    },
    {
      "cell_type": "code",
      "metadata": {
        "colab": {
          "base_uri": "https://localhost:8080/"
        },
        "id": "sXKvsgQuCKXc",
        "outputId": "366e1934-bef6-46a6-d9e7-d349368ae372"
      },
      "source": [
        "mat = np.array([[1,2,3],\r\n",
        "                [4,5,6],\r\n",
        "                [6,7,8]])\r\n",
        "print(\"Tensor : \", mat, \"\\n Axes : \", mat.ndim)\r\n",
        "print(\"Shape : \", mat.shape)\r\n",
        "print(\"Data Type : \", mat.dtype)"
      ],
      "execution_count": 3,
      "outputs": [
        {
          "output_type": "stream",
          "text": [
            "Tensor :  [[1 2 3]\n",
            " [4 5 6]\n",
            " [6 7 8]] \n",
            " Axes :  2\n",
            "Shape :  (3, 3)\n",
            "Data Type :  int64\n"
          ],
          "name": "stdout"
        }
      ]
    },
    {
      "cell_type": "markdown",
      "metadata": {
        "id": "BB8AD1lnErmC"
      },
      "source": [
        "## Manipulating tensors in Numpy\r\n",
        "\r\n",
        "* Tensor Slicing - you may select between any two indices along each tensor axis\r\n",
        "* Sample Axes - axis 0 usually represents the number of samples - the rest of the axes represent that particular object\r\n",
        "* Whenever we try to batch the training_data we do it with the axis 0."
      ]
    },
    {
      "cell_type": "code",
      "metadata": {
        "id": "_cWnYxetCvoo"
      },
      "source": [
        "from keras.datasets import mnist\r\n",
        "\r\n",
        "(train_images, train_labels), (test_images, test_labels) = mnist.load_data()"
      ],
      "execution_count": 4,
      "outputs": []
    },
    {
      "cell_type": "code",
      "metadata": {
        "colab": {
          "base_uri": "https://localhost:8080/"
        },
        "id": "m_ltee4HFkUP",
        "outputId": "ea570c26-8167-47e1-a735-1bef4df9391e"
      },
      "source": [
        "train_images.shape"
      ],
      "execution_count": 5,
      "outputs": [
        {
          "output_type": "execute_result",
          "data": {
            "text/plain": [
              "(60000, 28, 28)"
            ]
          },
          "metadata": {
            "tags": []
          },
          "execution_count": 5
        }
      ]
    },
    {
      "cell_type": "code",
      "metadata": {
        "colab": {
          "base_uri": "https://localhost:8080/"
        },
        "id": "Qd3rkrX3Fo50",
        "outputId": "3aa1aaae-1e0e-4d1b-dff5-320aa5e144e0"
      },
      "source": [
        "train_images[:,:,:].shape"
      ],
      "execution_count": 6,
      "outputs": [
        {
          "output_type": "execute_result",
          "data": {
            "text/plain": [
              "(60000, 28, 28)"
            ]
          },
          "metadata": {
            "tags": []
          },
          "execution_count": 6
        }
      ]
    },
    {
      "cell_type": "code",
      "metadata": {
        "colab": {
          "base_uri": "https://localhost:8080/"
        },
        "id": "6PU9JCM7Fros",
        "outputId": "145949a6-30bb-4bcc-f7d7-57afc0eb083f"
      },
      "source": [
        "train_images[:256,:,:].shape"
      ],
      "execution_count": 7,
      "outputs": [
        {
          "output_type": "execute_result",
          "data": {
            "text/plain": [
              "(256, 28, 28)"
            ]
          },
          "metadata": {
            "tags": []
          },
          "execution_count": 7
        }
      ]
    },
    {
      "cell_type": "markdown",
      "metadata": {
        "id": "dvgY19DRGBWZ"
      },
      "source": [
        "# Types of Tensor Data : \r\n",
        "\r\n",
        "- Vector data — 2D tensors of shape (samples, features)\r\n",
        "each single data point can be encoded\r\n",
        "as a vector\r\n",
        "-  Timeseries data or sequence data — 3D tensors of shape (samples, timesteps,\r\n",
        "features) \r\n",
        "each sample is a journey of one data point features across many timesteps.\r\n",
        "each single data point can be encoded as a matrix.\r\n",
        "- Images — 4D tensors of shape (samples,\r\n",
        " height, width, channels)\r\n",
        "each single data point can be encoded as a 3d tensor.\r\n",
        "- Video — 5D tensors of shape\r\n",
        "(samples, frames, height, width, channels)"
      ]
    },
    {
      "cell_type": "code",
      "metadata": {
        "colab": {
          "base_uri": "https://localhost:8080/"
        },
        "id": "MIcXfu-xI2ZK",
        "outputId": "8fd0137b-d456-4aec-e696-3e6ff90a7e7e"
      },
      "source": [
        "z = np.maximum(x, 0)\r\n",
        "z"
      ],
      "execution_count": 16,
      "outputs": [
        {
          "output_type": "execute_result",
          "data": {
            "text/plain": [
              "array([[0.27617087, 0.0805324 , 0.86980492, ..., 0.39256523, 0.34371401,\n",
              "        0.62863402],\n",
              "       [0.48766359, 0.39327852, 0.62805067, ..., 0.99588684, 0.37521751,\n",
              "        0.30944731],\n",
              "       [0.02664074, 0.2914958 , 0.97697369, ..., 0.89988097, 0.67009451,\n",
              "        0.53760595],\n",
              "       ...,\n",
              "       [0.11554085, 0.7826905 , 0.28861266, ..., 0.01190161, 0.91694084,\n",
              "        0.11565993],\n",
              "       [0.93355627, 0.03236113, 0.06205642, ..., 0.43667554, 0.04381913,\n",
              "        0.92493927],\n",
              "       [0.78535486, 0.04958228, 0.7467012 , ..., 0.4795967 , 0.69161645,\n",
              "        0.80287611]])"
            ]
          },
          "metadata": {
            "tags": []
          },
          "execution_count": 16
        }
      ]
    }
  ]
}