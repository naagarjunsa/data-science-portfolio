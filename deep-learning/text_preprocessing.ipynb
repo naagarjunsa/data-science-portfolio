{
  "nbformat": 4,
  "nbformat_minor": 0,
  "metadata": {
    "colab": {
      "name": "text-preprocessing.ipynb",
      "provenance": [],
      "authorship_tag": "ABX9TyOlm05PN9ebfPU/VIOXBwLc",
      "include_colab_link": true
    },
    "kernelspec": {
      "name": "python3",
      "display_name": "Python 3"
    }
  },
  "cells": [
    {
      "cell_type": "markdown",
      "metadata": {
        "id": "view-in-github",
        "colab_type": "text"
      },
      "source": [
        "<a href=\"https://colab.research.google.com/github/naagarjunsa/data-science-portfolio/blob/main/deep-learning/text_preprocessing.ipynb\" target=\"_parent\"><img src=\"https://colab.research.google.com/assets/colab-badge.svg\" alt=\"Open In Colab\"/></a>"
      ]
    },
    {
      "cell_type": "code",
      "metadata": {
        "colab": {
          "base_uri": "https://localhost:8080/"
        },
        "id": "DBUaokCnBEEV",
        "outputId": "4c8ca6e5-f975-423a-e924-abf10bfd6ee8"
      },
      "source": [
        "from keras.preprocessing.text import Tokenizer\r\n",
        "\r\n",
        "samples = ['The cat sat on the mat.', 'The dog ate my homework']\r\n",
        "\r\n",
        "tokenizer = Tokenizer(num_words=1000)\r\n",
        "tokenizer.fit_on_texts(samples)\r\n",
        "\r\n",
        "sequences = tokenizer.texts_to_sequences(samples)\r\n",
        "\r\n",
        "one_hot_results = tokenizer.texts_to_matrix(samples, mode='binary')\r\n",
        "\r\n",
        "word_index = tokenizer.word_index"
      ],
      "execution_count": 2,
      "outputs": [
        {
          "output_type": "execute_result",
          "data": {
            "text/plain": [
              "9"
            ]
          },
          "metadata": {
            "tags": []
          },
          "execution_count": 2
        }
      ]
    },
    {
      "cell_type": "code",
      "metadata": {
        "colab": {
          "base_uri": "https://localhost:8080/"
        },
        "id": "bn4sv5ueB5Ch",
        "outputId": "8986b92e-fc4f-45c2-b4ff-16fd218c372c"
      },
      "source": [
        "sequences"
      ],
      "execution_count": 3,
      "outputs": [
        {
          "output_type": "execute_result",
          "data": {
            "text/plain": [
              "[[1, 2, 3, 4, 1, 5], [1, 6, 7, 8, 9]]"
            ]
          },
          "metadata": {
            "tags": []
          },
          "execution_count": 3
        }
      ]
    },
    {
      "cell_type": "code",
      "metadata": {
        "colab": {
          "base_uri": "https://localhost:8080/"
        },
        "id": "4pmwW-InCFvD",
        "outputId": "4a882790-b29d-4c61-ec5f-9c9470017dcc"
      },
      "source": [
        "word_index"
      ],
      "execution_count": 4,
      "outputs": [
        {
          "output_type": "execute_result",
          "data": {
            "text/plain": [
              "{'ate': 7,\n",
              " 'cat': 2,\n",
              " 'dog': 6,\n",
              " 'homework': 9,\n",
              " 'mat': 5,\n",
              " 'my': 8,\n",
              " 'on': 4,\n",
              " 'sat': 3,\n",
              " 'the': 1}"
            ]
          },
          "metadata": {
            "tags": []
          },
          "execution_count": 4
        }
      ]
    },
    {
      "cell_type": "code",
      "metadata": {
        "colab": {
          "base_uri": "https://localhost:8080/"
        },
        "id": "OJxKpaJCCKgs",
        "outputId": "c13aeaca-9824-44cc-88c9-b3a6aa6e2c1b"
      },
      "source": [
        "len(one_hot_results[0])"
      ],
      "execution_count": 6,
      "outputs": [
        {
          "output_type": "execute_result",
          "data": {
            "text/plain": [
              "1000"
            ]
          },
          "metadata": {
            "tags": []
          },
          "execution_count": 6
        }
      ]
    },
    {
      "cell_type": "code",
      "metadata": {
        "colab": {
          "base_uri": "https://localhost:8080/"
        },
        "id": "uPaoqm3HCMdn",
        "outputId": "1eb0c890-879b-44ae-a25a-f89efa655412"
      },
      "source": [
        "from keras.datasets import imdb\r\n",
        "from keras import preprocessing\r\n",
        "\r\n",
        "max_features = 10000\r\n",
        "maxlen = 100\r\n",
        "\r\n",
        "#data is loaded as lists of integers\r\n",
        "#each integer is a index in the word_index dictionary\r\n",
        "(x_train, y_train), (x_test, y_test) = imdb.load_data(\r\n",
        "    num_words=max_features)\r\n",
        "\r\n",
        "x_train = preprocessing.sequence.pad_sequences(x_train, maxlen=maxlen)\r\n",
        "x_test = preprocessing.sequence.pad_sequences(x_test, maxlen=maxlen)\r\n",
        "\r\n"
      ],
      "execution_count": 9,
      "outputs": [
        {
          "output_type": "stream",
          "text": [
            "<string>:6: VisibleDeprecationWarning: Creating an ndarray from ragged nested sequences (which is a list-or-tuple of lists-or-tuples-or ndarrays with different lengths or shapes) is deprecated. If you meant to do this, you must specify 'dtype=object' when creating the ndarray\n",
            "/usr/local/lib/python3.7/dist-packages/tensorflow/python/keras/datasets/imdb.py:159: VisibleDeprecationWarning: Creating an ndarray from ragged nested sequences (which is a list-or-tuple of lists-or-tuples-or ndarrays with different lengths or shapes) is deprecated. If you meant to do this, you must specify 'dtype=object' when creating the ndarray\n",
            "  x_train, y_train = np.array(xs[:idx]), np.array(labels[:idx])\n",
            "/usr/local/lib/python3.7/dist-packages/tensorflow/python/keras/datasets/imdb.py:160: VisibleDeprecationWarning: Creating an ndarray from ragged nested sequences (which is a list-or-tuple of lists-or-tuples-or ndarrays with different lengths or shapes) is deprecated. If you meant to do this, you must specify 'dtype=object' when creating the ndarray\n",
            "  x_test, y_test = np.array(xs[idx:]), np.array(labels[idx:])\n"
          ],
          "name": "stderr"
        }
      ]
    },
    {
      "cell_type": "code",
      "metadata": {
        "colab": {
          "base_uri": "https://localhost:8080/"
        },
        "id": "bcIj2T9QGMYy",
        "outputId": "237d2b3e-696f-47be-c187-ed4c04de5701"
      },
      "source": [
        "from keras.models import Sequential\r\n",
        "from keras.layers import Flatten, Dense, Embedding\r\n",
        "\r\n",
        "embedding_dimension=10\r\n",
        "model = Sequential()\r\n",
        "model.add(Embedding(max_features, embedding_dimension,\r\n",
        "                    input_length=maxlen))\r\n",
        "model.add(Flatten())\r\n",
        "model.add(Dense(1, activation='sigmoid'))\r\n",
        "\r\n",
        "model.summary()"
      ],
      "execution_count": 16,
      "outputs": [
        {
          "output_type": "stream",
          "text": [
            "Model: \"sequential_3\"\n",
            "_________________________________________________________________\n",
            "Layer (type)                 Output Shape              Param #   \n",
            "=================================================================\n",
            "embedding_2 (Embedding)      (None, 100, 10)           100000    \n",
            "_________________________________________________________________\n",
            "flatten_2 (Flatten)          (None, 1000)              0         \n",
            "_________________________________________________________________\n",
            "dense_4 (Dense)              (None, 1)                 1001      \n",
            "=================================================================\n",
            "Total params: 101,001\n",
            "Trainable params: 101,001\n",
            "Non-trainable params: 0\n",
            "_________________________________________________________________\n"
          ],
          "name": "stdout"
        }
      ]
    },
    {
      "cell_type": "code",
      "metadata": {
        "colab": {
          "base_uri": "https://localhost:8080/"
        },
        "id": "N7JT0PttG_8i",
        "outputId": "3f1fe6a8-f547-423a-b8ec-39186135821e"
      },
      "source": [
        "model.compile(optimizer='rmsprop', \r\n",
        "              loss='binary_crossentropy', \r\n",
        "              metrics=['acc'])\r\n",
        "\r\n",
        "history = model.fit(x_train, y_train,\r\n",
        "                    epochs=10,\r\n",
        "                    batch_size=32,\r\n",
        "                    validation_split=0.2)"
      ],
      "execution_count": 17,
      "outputs": [
        {
          "output_type": "stream",
          "text": [
            "Epoch 1/10\n",
            "625/625 [==============================] - 2s 2ms/step - loss: 0.6657 - acc: 0.5988 - val_loss: 0.4416 - val_acc: 0.8158\n",
            "Epoch 2/10\n",
            "625/625 [==============================] - 1s 2ms/step - loss: 0.3795 - acc: 0.8463 - val_loss: 0.3425 - val_acc: 0.8488\n",
            "Epoch 3/10\n",
            "625/625 [==============================] - 1s 2ms/step - loss: 0.2764 - acc: 0.8872 - val_loss: 0.3264 - val_acc: 0.8568\n",
            "Epoch 4/10\n",
            "625/625 [==============================] - 1s 2ms/step - loss: 0.2398 - acc: 0.9038 - val_loss: 0.3259 - val_acc: 0.8574\n",
            "Epoch 5/10\n",
            "625/625 [==============================] - 1s 2ms/step - loss: 0.2146 - acc: 0.9162 - val_loss: 0.3264 - val_acc: 0.8578\n",
            "Epoch 6/10\n",
            "625/625 [==============================] - 1s 2ms/step - loss: 0.1969 - acc: 0.9240 - val_loss: 0.3364 - val_acc: 0.8554\n",
            "Epoch 7/10\n",
            "625/625 [==============================] - 1s 2ms/step - loss: 0.1732 - acc: 0.9366 - val_loss: 0.3472 - val_acc: 0.8546\n",
            "Epoch 8/10\n",
            "625/625 [==============================] - 1s 2ms/step - loss: 0.1505 - acc: 0.9474 - val_loss: 0.3536 - val_acc: 0.8502\n",
            "Epoch 9/10\n",
            "625/625 [==============================] - 1s 2ms/step - loss: 0.1298 - acc: 0.9565 - val_loss: 0.3640 - val_acc: 0.8500\n",
            "Epoch 10/10\n",
            "625/625 [==============================] - 1s 2ms/step - loss: 0.1168 - acc: 0.9623 - val_loss: 0.3781 - val_acc: 0.8456\n"
          ],
          "name": "stdout"
        }
      ]
    },
    {
      "cell_type": "code",
      "metadata": {
        "id": "lVXvm8KuHNHM"
      },
      "source": [
        ""
      ],
      "execution_count": null,
      "outputs": []
    }
  ]
}