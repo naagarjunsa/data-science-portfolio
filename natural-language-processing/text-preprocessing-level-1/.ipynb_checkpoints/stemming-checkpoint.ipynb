{
 "cells": [
  {
   "cell_type": "markdown",
   "metadata": {},
   "source": [
    "# TEXT PREPROCESSING - STEMMING\n",
    "\n",
    "**Stemming** is text preprocessing techinique where the tokens generated from the corpus are reduced to their base units. The base units need not be meaningful words. This makes it less complex and faster. Manual rule based way of cutting words down.\n",
    "* _go, going, gone --> go_\n",
    "\n",
    "\n",
    "**Overstemming** is when you stem too much of the token.\n",
    "* _universe, university, universities --> univers_\n",
    "\n",
    "**Understemming** is when you dont stem the token enough\n",
    "* datum , data -> dat ==> What about date?\n",
    "\n",
    "**StopWords** are words which do not add much meaning to the sentence.\n",
    "* a, an, the, is "
   ]
  },
  {
   "cell_type": "code",
   "execution_count": 1,
   "metadata": {},
   "outputs": [],
   "source": [
    "#will be using NLTK to demonstrate stemming\n",
    "import nltk\n",
    "from nltk.stem import PorterStemmer\n",
    "from nltk.corpus import stopwords\n",
    "\n",
    "paragraph = \"\"\"Paragraphs are the building blocks of papers. Many students define paragraphs \\\n",
    "in terms of length. A paragraph is a group of at least five sentences. Paragraph \\\n",
    "is half a page long, etc.\"\"\""
   ]
  },
  {
   "cell_type": "code",
   "execution_count": 2,
   "metadata": {},
   "outputs": [
    {
     "name": "stdout",
     "output_type": "stream",
     "text": [
      "['Paragraphs are the building blocks of papers.', 'Many students define paragraphs in terms of length.', 'A paragraph is a group of at least five sentences.', 'Paragraph is half a page long, etc.']\n"
     ]
    }
   ],
   "source": [
    "#generate sentences from the paragraph\n",
    "sentences = nltk.sent_tokenize(paragraph)\n",
    "print(sentences)"
   ]
  },
  {
   "cell_type": "code",
   "execution_count": 6,
   "metadata": {},
   "outputs": [
    {
     "name": "stdout",
     "output_type": "stream",
     "text": [
      "Words before stemming :  ['Paragraph', 'is', 'half', 'a', 'page', 'long', ',', 'etc', '.']\n",
      "Words after stemming :  ['paragraph', 'half', 'page', 'long', ',', 'etc', '.']\n",
      "Words before stemming :  ['Paragraph', 'is', 'half', 'a', 'page', 'long', ',', 'etc', '.']\n",
      "Words after stemming :  ['paragraph', 'half', 'page', 'long', ',', 'etc', '.']\n",
      "Words before stemming :  ['Paragraph', 'is', 'half', 'a', 'page', 'long', ',', 'etc', '.']\n",
      "Words after stemming :  ['paragraph', 'half', 'page', 'long', ',', 'etc', '.']\n",
      "Words before stemming :  ['Paragraph', 'is', 'half', 'a', 'page', 'long', ',', 'etc', '.']\n",
      "Words after stemming :  ['paragraph', 'half', 'page', 'long', ',', 'etc', '.']\n",
      "['paragraph half page long , etc .', 'paragraph half page long , etc .', 'paragraph half page long , etc .', 'paragraph half page long , etc .']\n"
     ]
    }
   ],
   "source": [
    "#initalise stemmer and process each sentence\n",
    "stemmer = PorterStemmer()\n",
    "stem_sentences = []\n",
    "for sentence in sentences:\n",
    "    words = nltk.word_tokenize(sentence)\n",
    "    print(\"Words before stemming : \", words)\n",
    "    \n",
    "    stem_words = []\n",
    "    for word in words:\n",
    "        if word not in set(stopwords.words('english')):\n",
    "            stem_word = stemmer.stem(word)\n",
    "            stem_words.append(stem_word)\n",
    "        sentences[i] = ' '.join(stem_words)\n",
    "        \n",
    "    print(\"Words after stemming : \", stem_words)\n",
    "print(sentences)           "
   ]
  },
  {
   "cell_type": "code",
   "execution_count": null,
   "metadata": {},
   "outputs": [],
   "source": []
  }
 ],
 "metadata": {
  "kernelspec": {
   "display_name": "Python 3",
   "language": "python",
   "name": "python3"
  },
  "language_info": {
   "codemirror_mode": {
    "name": "ipython",
    "version": 3
   },
   "file_extension": ".py",
   "mimetype": "text/x-python",
   "name": "python",
   "nbconvert_exporter": "python",
   "pygments_lexer": "ipython3",
   "version": "3.8.5"
  }
 },
 "nbformat": 4,
 "nbformat_minor": 4
}
