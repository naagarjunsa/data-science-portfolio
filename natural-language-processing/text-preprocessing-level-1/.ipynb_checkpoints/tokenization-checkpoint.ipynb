{
 "cells": [
  {
   "cell_type": "markdown",
   "metadata": {},
   "source": [
    "# TEXT PREPROCESSING - TOKENIZATION\n"
   ]
  },
  {
   "cell_type": "markdown",
   "metadata": {},
   "source": [
    "Text preprocessing is a very integral part of any Natural Language Processing. Although we currently have immensely powerful methods of text preprocessing, an intuition about the traditional methods will be a solid foundation to understanding the things to come. \n",
    "\n",
    "The inital text preprocessing concept we will be discussing is **Tokenization**. It is bascially breaking down text into smaller pieces - a.k.a tokens. This helps in developing a NLP model or understanding the semantics of the textual data. \n",
    "\n",
    "_Here is an example of tokenization_\n",
    "\n",
    "| Before Tokenization | After Tokenization |\n",
    "| --- | --- | \n",
    "| \"This is a test sentence\" | 'This' 'is' 'a' 'test' 'sentence' |"
   ]
  },
  {
   "cell_type": "code",
   "execution_count": 1,
   "metadata": {},
   "outputs": [],
   "source": [
    "#Natural Language Tool Kit (NLTK) is a N\n",
    "import nltk\n",
    "\n",
    "paragraph = \"\"\"Arsenal Football Club is a professional football club based in Islington, London, England\n",
    "               that plays in the Premier League, the top flight of English football. The club has won 13\n",
    "               league titles (including one unbeaten title), a record 14 FA Cups, two League Cups, 16 FA\n",
    "               Community Shields, the League Centenary Trophy, one European Cup Winners' Cup, and one Inter-Cities Fairs Cup.\"\"\"\n"
   ]
  },
  {
   "cell_type": "code",
   "execution_count": null,
   "metadata": {},
   "outputs": [],
   "source": []
  }
 ],
 "metadata": {
  "kernelspec": {
   "display_name": "Python 3",
   "language": "python",
   "name": "python3"
  },
  "language_info": {
   "codemirror_mode": {
    "name": "ipython",
    "version": 3
   },
   "file_extension": ".py",
   "mimetype": "text/x-python",
   "name": "python",
   "nbconvert_exporter": "python",
   "pygments_lexer": "ipython3",
   "version": "3.8.5"
  }
 },
 "nbformat": 4,
 "nbformat_minor": 4
}
